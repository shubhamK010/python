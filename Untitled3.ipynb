{
  "nbformat": 4,
  "nbformat_minor": 0,
  "metadata": {
    "colab": {
      "provenance": [],
      "authorship_tag": "ABX9TyM7xPO1uBkyQzaH1K6vHJrP",
      "include_colab_link": true
    },
    "kernelspec": {
      "name": "python3",
      "display_name": "Python 3"
    },
    "language_info": {
      "name": "python"
    }
  },
  "cells": [
    {
      "cell_type": "markdown",
      "metadata": {
        "id": "view-in-github",
        "colab_type": "text"
      },
      "source": [
        "<a href=\"https://colab.research.google.com/github/shubhamK010/python/blob/main/Untitled3.ipynb\" target=\"_parent\"><img src=\"https://colab.research.google.com/assets/colab-badge.svg\" alt=\"Open In Colab\"/></a>"
      ]
    },
    {
      "cell_type": "code",
      "execution_count": null,
      "metadata": {
        "id": "a8sC3nri8Bze"
      },
      "outputs": [],
      "source": [
        "'''\n",
        "#        0      1         2         3     4     5         6       7\n",
        "names=[\"amol\",\"poorva\",\"abhisha\",\"ram\",\"sham\",\"chetan\",\"mayuri\",\"amit\"]\n",
        "#       -8      -7        -6     -5      -4      -3      -2       -1\n",
        "print(names[0])\n",
        "print(names[-8])\n",
        "print(names[6])\n",
        "print(names[-2])\n",
        "\n",
        "\n",
        "\n",
        "\n",
        "#basic loop ===> elements \n",
        "for x in names:\n",
        "  print(x)\n",
        "#range\n",
        "for i in range(8):\n",
        "  print(i)\n",
        "'''\n",
        "#range(startPosition,EndPosition)\n",
        "#range(0,10)--->0,1,2,3,4,5,6,7,8,9\n",
        "# range(10) ----> 0,1,2,3,4,5,6,7,8,9\n",
        "#\n",
        "\n",
        "#         0       1       2         3    4  5 6\n",
        "namesA=[\"amol\",\"poorva\",\"abhisha\",\"ram\",10,20,30,10.20,20.054,45.88]\n",
        "\n",
        "for x in namesA: # elements \n",
        "  print(x)\n",
        "\n",
        "for i in range(1,10): \n",
        "  print(type(namesA[i]))\n",
        "\n",
        "  for i in range(1,10,3):\n",
        "    print(namesA[i])\n",
        "\n",
        "\n",
        "#methods\n",
        "\n",
        "num = [10,20,30,40,50]\n",
        "a1=num.index(10)\n",
        "print(a1)\n",
        "\n",
        "numB = [10,20,30,40,505]\n",
        "\n",
        "a2=numB.reverse()\n",
        "print(a2)\n",
        "print(numB)\n",
        "\n",
        "a3=num.pop()\n",
        "print(num)\n",
        "print(a3)\n",
        "\n"
      ]
    }
  ]
}